{
 "cells": [
  {
   "cell_type": "markdown",
   "id": "90742123-1e4a-4d61-b060-aed01663162e",
   "metadata": {},
   "source": [
    "WEATHER DATA CLASSIFICATION USING SCIKIT-LEARN\n",
    "\n",
    "Import Libraries: Import necessary libraries for data manipulation, modeling, and evaluation."
   ]
  },
  {
   "cell_type": "code",
   "execution_count": 1,
   "id": "d541410e-ff83-4ecd-ae3b-b6bb3c8aff46",
   "metadata": {},
   "outputs": [],
   "source": [
    "import pandas as pd\n",
    "from sklearn.model_selection import train_test_split\n",
    "from sklearn.tree import DecisionTreeClassifier\n",
    "from sklearn.metrics import accuracy_score, classification_report, confusion_matrix\n",
    "import matplotlib.pyplot as plt\n",
    "import seaborn as sns\n"
   ]
  },
  {
   "cell_type": "code",
   "execution_count": 2,
   "id": "fd36657c-56b1-4645-aebc-66546cf34726",
   "metadata": {},
   "outputs": [
    {
     "name": "stdout",
     "output_type": "stream",
     "text": [
      "      number  air_pressure_9am  air_temp_9am  avg_wind_direction_9am  \\\n",
      "0          0        918.060000     74.822000              271.100000   \n",
      "1          1        917.347688     71.403843              101.935179   \n",
      "2          2        923.040000     60.638000               51.000000   \n",
      "3          3        920.502751     70.138895              198.832133   \n",
      "4          4        921.160000     44.294000              277.800000   \n",
      "...      ...               ...           ...                     ...   \n",
      "1090    1090        918.900000     63.104000              192.900000   \n",
      "1091    1091        918.710000     49.568000              241.600000   \n",
      "1092    1092        916.600000     71.096000              189.300000   \n",
      "1093    1093        912.600000     58.406000              172.700000   \n",
      "1094    1094        921.530000     77.702000               97.100000   \n",
      "\n",
      "      avg_wind_speed_9am  max_wind_direction_9am  max_wind_speed_9am  \\\n",
      "0               2.080354              295.400000            2.863283   \n",
      "1               2.443009              140.471549            3.533324   \n",
      "2              17.067852               63.700000           22.100967   \n",
      "3               4.337363              211.203341            5.190045   \n",
      "4               1.856660              136.500000            2.863283   \n",
      "...                  ...                     ...                 ...   \n",
      "1090            3.869906              207.300000            5.212070   \n",
      "1091            1.811921              227.400000            2.371156   \n",
      "1092            3.064608              200.800000            3.892276   \n",
      "1093            3.825167              189.100000            4.764682   \n",
      "1094            3.265932              125.900000            4.451511   \n",
      "\n",
      "      rain_accumulation_9am  rain_duration_9am  relative_humidity_9am  \\\n",
      "0                       0.0                0.0              42.420000   \n",
      "1                       0.0                0.0              24.328697   \n",
      "2                       0.0               20.0               8.900000   \n",
      "3                       0.0                0.0              12.189102   \n",
      "4                       8.9            14730.0              92.410000   \n",
      "...                     ...                ...                    ...   \n",
      "1090                    0.0                0.0              26.020000   \n",
      "1091                    0.0                0.0              90.350000   \n",
      "1092                    0.0                0.0              45.590000   \n",
      "1093                    0.0                0.0              64.840000   \n",
      "1094                    0.0                0.0              14.560000   \n",
      "\n",
      "      relative_humidity_3pm  Unnamed: 11  \n",
      "0                 36.160000          NaN  \n",
      "1                 19.426597          NaN  \n",
      "2                 14.460000          NaN  \n",
      "3                 12.742547          NaN  \n",
      "4                 76.740000          NaN  \n",
      "...                     ...          ...  \n",
      "1090              38.180000          NaN  \n",
      "1091              73.340000          NaN  \n",
      "1092              52.310000          NaN  \n",
      "1093              58.280000          NaN  \n",
      "1094              15.100000          NaN  \n",
      "\n",
      "[1095 rows x 12 columns]\n"
     ]
    }
   ],
   "source": [
    "file_path = './daily_weather.csv'  #Read the data of the weather from the csv file using read_csv function of pandas dataframe\n",
    "weather = pd.read_csv(file_path)\n",
    "print(weather)"
   ]
  },
  {
   "cell_type": "code",
   "execution_count": 3,
   "id": "90718abd-27db-406d-a9f5-8711bae43683",
   "metadata": {},
   "outputs": [
    {
     "data": {
      "text/plain": [
       "Index(['number', 'air_pressure_9am', 'air_temp_9am', 'avg_wind_direction_9am',\n",
       "       'avg_wind_speed_9am', 'max_wind_direction_9am', 'max_wind_speed_9am',\n",
       "       'rain_accumulation_9am', 'rain_duration_9am', 'relative_humidity_9am',\n",
       "       'relative_humidity_3pm', 'Unnamed: 11'],\n",
       "      dtype='object')"
      ]
     },
     "execution_count": 3,
     "metadata": {},
     "output_type": "execute_result"
    }
   ],
   "source": [
    "weather.columns"
   ]
  },
  {
   "cell_type": "code",
   "execution_count": 4,
   "id": "447ef666-abef-48e8-8585-a8d2d93686e4",
   "metadata": {},
   "outputs": [
    {
     "name": "stdout",
     "output_type": "stream",
     "text": [
      "   number  air_pressure_9am  air_temp_9am  avg_wind_direction_9am  \\\n",
      "0       0        918.060000     74.822000              271.100000   \n",
      "1       1        917.347688     71.403843              101.935179   \n",
      "2       2        923.040000     60.638000               51.000000   \n",
      "3       3        920.502751     70.138895              198.832133   \n",
      "4       4        921.160000     44.294000              277.800000   \n",
      "\n",
      "   avg_wind_speed_9am  max_wind_direction_9am  max_wind_speed_9am  \\\n",
      "0            2.080354              295.400000            2.863283   \n",
      "1            2.443009              140.471549            3.533324   \n",
      "2           17.067852               63.700000           22.100967   \n",
      "3            4.337363              211.203341            5.190045   \n",
      "4            1.856660              136.500000            2.863283   \n",
      "\n",
      "   rain_accumulation_9am  rain_duration_9am  relative_humidity_9am  \\\n",
      "0                    0.0                0.0              42.420000   \n",
      "1                    0.0                0.0              24.328697   \n",
      "2                    0.0               20.0               8.900000   \n",
      "3                    0.0                0.0              12.189102   \n",
      "4                    8.9            14730.0              92.410000   \n",
      "\n",
      "   relative_humidity_3pm  Unnamed: 11  \n",
      "0              36.160000          NaN  \n",
      "1              19.426597          NaN  \n",
      "2              14.460000          NaN  \n",
      "3              12.742547          NaN  \n",
      "4              76.740000          NaN  \n"
     ]
    }
   ],
   "source": [
    "print(weather.head())"
   ]
  },
  {
   "cell_type": "markdown",
   "id": "04bc85bd-20d1-4243-aac9-72815d196c30",
   "metadata": {},
   "source": [
    "Data Cleaning and Preprocessing: Handle missing values, drop irrelevant columns, and define features and target variables."
   ]
  },
  {
   "cell_type": "code",
   "execution_count": 5,
   "id": "7b96a6d5-296b-4acd-80f6-2989d3950bd4",
   "metadata": {},
   "outputs": [
    {
     "name": "stdout",
     "output_type": "stream",
     "text": [
      "   high_humidity_label\n",
      "0                    0\n",
      "1                    0\n",
      "2                    0\n",
      "3                    0\n",
      "4                    1\n"
     ]
    }
   ],
   "source": [
    "# Drop any irrelevant or null columns\n",
    "weather = weather.drop(columns=['Unnamed: 11'], errors='ignore')\n",
    "\n",
    "# Handle missing values\n",
    "weather = weather.dropna()\n",
    "\n",
    "# Define a high humidity threshold\n",
    "high_humidity_threshold = 75  \n",
    "\n",
    "# Create a new column 'high_humidity_label' which is 1 if humidity is above the threshold, else 0\n",
    "weather['high_humidity_label'] = (weather['relative_humidity_9am'] > high_humidity_threshold).astype(int)\n",
    "\n",
    "# Define features and target variable\n",
    "features = ['air_pressure_9am', 'air_temp_9am', 'avg_wind_direction_9am', \n",
    "            'avg_wind_speed_9am', 'max_wind_direction_9am', 'max_wind_speed_9am', \n",
    "            'rain_accumulation_9am', 'rain_duration_9am', 'relative_humidity_3pm']\n",
    "\n",
    "x = weather[features]\n",
    "y= weather[['high_humidity_label']].copy()\n",
    "print(y.head())"
   ]
  },
  {
   "cell_type": "code",
   "execution_count": 6,
   "id": "3c16c77c-ca22-422b-b717-137d6e867596",
   "metadata": {},
   "outputs": [
    {
     "name": "stdout",
     "output_type": "stream",
     "text": [
      "x shape: (1064, 9)\n",
      "y shape: (1064, 1)\n"
     ]
    }
   ],
   "source": [
    "# Check the shapes\n",
    "print(f\"x shape: {x.shape}\")\n",
    "print(f\"y shape: {y.shape}\")\n"
   ]
  },
  {
   "cell_type": "markdown",
   "id": "712ab89e-dbce-4df7-aa23-5c3cdd83b75f",
   "metadata": {},
   "source": [
    "Split the Data: Split the dataset into training and testing sets."
   ]
  },
  {
   "cell_type": "code",
   "execution_count": 7,
   "id": "15aac9f4-9693-456e-859f-cdb71901b3ff",
   "metadata": {},
   "outputs": [
    {
     "name": "stdout",
     "output_type": "stream",
     "text": [
      "801    0\n",
      "37     0\n",
      "662    0\n",
      "696    0\n",
      "101    0\n",
      "57     0\n",
      "84     0\n",
      "444    0\n",
      "343    0\n",
      "614    0\n",
      "Name: high_humidity_label, dtype: int32\n"
     ]
    }
   ],
   "source": [
    "X_train, X_test, y_train, y_test = train_test_split(x, y, test_size=0.33, random_state=263)\n",
    "print(y_test['high_humidity_label'][:10])"
   ]
  },
  {
   "cell_type": "code",
   "execution_count": 8,
   "id": "2163161d-73e0-4ac0-b11e-87b5af49e5fb",
   "metadata": {},
   "outputs": [
    {
     "name": "stdout",
     "output_type": "stream",
     "text": [
      "X_train shape: (712, 9)\n",
      "X_test shape: (352, 9)\n",
      "y_train shape: (712, 1)\n",
      "y_test shape: (352, 1)\n"
     ]
    }
   ],
   "source": [
    "# Check the shapes of the splits\n",
    "print(f\"X_train shape: {X_train.shape}\")\n",
    "print(f\"X_test shape: {X_test.shape}\")\n",
    "print(f\"y_train shape: {y_train.shape}\")\n",
    "print(f\"y_test shape: {y_test.shape}\")\n"
   ]
  },
  {
   "cell_type": "markdown",
   "id": "e30d1a65-b514-429d-a626-81ef78a2e11a",
   "metadata": {},
   "source": [
    "Train the Model: Train a Decision Tree Classifier on the training set. \n",
    "Make Predictions: Use the trained model to make predictions on the test set.\n",
    "Evaluate the Model: Evaluate the model using accuracy score, classification report, and confusion matrix.\n",
    "Visualize Results: Visualize the confusion matrix to better understand the model's performance."
   ]
  },
  {
   "cell_type": "code",
   "execution_count": 9,
   "id": "c921426f-7dd5-4238-ac95-4c95f2b30c61",
   "metadata": {},
   "outputs": [
    {
     "name": "stdout",
     "output_type": "stream",
     "text": [
      "Accuracy: 92.05%\n",
      "Classification Report:\n",
      "              precision    recall  f1-score   support\n",
      "\n",
      "           0       0.94      0.97      0.95       302\n",
      "           1       0.76      0.64      0.70        50\n",
      "\n",
      "    accuracy                           0.92       352\n",
      "   macro avg       0.85      0.80      0.82       352\n",
      "weighted avg       0.92      0.92      0.92       352\n",
      "\n",
      "Confusion Matrix:\n",
      "[[292  10]\n",
      " [ 18  32]]\n"
     ]
    },
    {
     "data": {
      "image/png": "[encoded data removed]",
      "text/plain": [
       "<Figure size 1000x700 with 2 Axes>"
      ]
     },
     "metadata": {},
     "output_type": "display_data"
    },
    {
     "name": "stdout",
     "output_type": "stream",
     "text": [
      "high_humidity_label\n",
      "0    926\n",
      "1    138\n",
      "Name: count, dtype: int64\n"
     ]
    }
   ],
   "source": [
    "humidity_classifier = DecisionTreeClassifier(max_leaf_nodes=5, random_state=0)\n",
    "humidity_classifier.fit(X_train, y_train)\n",
    "y_predicted = humidity_classifier.predict(X_test)\n",
    "# Accuracy\n",
    "accuracy = accuracy_score(y_test, y_predicted)\n",
    "print(f\"Accuracy: {accuracy * 100:.2f}%\")\n",
    "\n",
    "# Classification Report\n",
    "print(\"Classification Report:\")\n",
    "print(classification_report(y_test, y_predicted))\n",
    "\n",
    "# Confusion Matrix\n",
    "conf_matrix = confusion_matrix(y_test, y_predicted)\n",
    "print(\"Confusion Matrix:\")\n",
    "print(conf_matrix)\n",
    "\n",
    "# Visualize Confusion Matrix\n",
    "plt.figure(figsize=(10, 7))\n",
    "sns.heatmap(conf_matrix, annot=True, fmt=\"d\", cmap=\"Blues\")\n",
    "plt.title(\"Confusion Matrix\")\n",
    "plt.xlabel(\"Predicted\")\n",
    "plt.ylabel(\"Actual\")\n",
    "plt.show()\n",
    "\n",
    "humidity_counts = weather['high_humidity_label'].value_counts()\n",
    "print(humidity_counts)\n"
   ]
  },
  {
   "cell_type": "code",
   "execution_count": null,
   "id": "dd14cb03-b95f-4630-b41c-90a926c1276b",
   "metadata": {},
   "outputs": [],
   "source": []
  }
 ],
 "metadata": {
  "kernelspec": {
   "display_name": "Python 3 (ipykernel)",
   "language": "python",
   "name": "python3"
  },
  "language_info": {
   "codemirror_mode": {
    "name": "ipython",
    "version": 3
   },
   "file_extension": ".py",
   "mimetype": "text/x-python",
   "name": "python",
   "nbconvert_exporter": "python",
   "pygments_lexer": "ipython3",
   "version": "3.12.3"
  }
 },
 "nbformat": 4,
 "nbformat_minor": 5
}
